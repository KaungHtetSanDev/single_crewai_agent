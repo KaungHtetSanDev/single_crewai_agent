{
 "cells": [
  {
   "cell_type": "code",
   "execution_count": 7,
   "metadata": {},
   "outputs": [],
   "source": [
    "import warnings\n",
    "warnings.filterwarnings('ignore')"
   ]
  },
  {
   "cell_type": "code",
   "execution_count": 8,
   "metadata": {},
   "outputs": [],
   "source": [
    "import os\n",
    "from get_api_key import get_openai_api_key\n",
    "openai_api_key = get_openai_api_key()\n",
    "os.environ['OPENAI_MODEL_NAME'] = 'gpt-4o-mini'"
   ]
  },
  {
   "cell_type": "code",
   "execution_count": 9,
   "metadata": {},
   "outputs": [
    {
     "ename": "ModuleNotFoundError",
     "evalue": "No module named 'yaml'",
     "output_type": "error",
     "traceback": [
      "\u001b[0;31m---------------------------------------------------------------------------\u001b[0m",
      "\u001b[0;31mModuleNotFoundError\u001b[0m                       Traceback (most recent call last)",
      "Cell \u001b[0;32mIn[9], line 1\u001b[0m\n\u001b[0;32m----> 1\u001b[0m \u001b[38;5;28;01mimport\u001b[39;00m\u001b[38;5;250m \u001b[39m\u001b[38;5;21;01myaml\u001b[39;00m\n\u001b[1;32m      2\u001b[0m files \u001b[38;5;241m=\u001b[39m {\n\u001b[1;32m      3\u001b[0m     \u001b[38;5;124m'\u001b[39m\u001b[38;5;124magents\u001b[39m\u001b[38;5;124m'\u001b[39m: \u001b[38;5;124m'\u001b[39m\u001b[38;5;124mconfig/agents.yaml\u001b[39m\u001b[38;5;124m'\u001b[39m,\n\u001b[1;32m      4\u001b[0m     \u001b[38;5;124m'\u001b[39m\u001b[38;5;124mtasks\u001b[39m\u001b[38;5;124m'\u001b[39m : \u001b[38;5;124m'\u001b[39m\u001b[38;5;124mconfig/tasks.yaml\u001b[39m\u001b[38;5;124m'\u001b[39m\n\u001b[1;32m      5\u001b[0m }\n\u001b[1;32m      7\u001b[0m configs \u001b[38;5;241m=\u001b[39m {}\n",
      "\u001b[0;31mModuleNotFoundError\u001b[0m: No module named 'yaml'"
     ]
    }
   ],
   "source": [
    "import yaml\n",
    "files = {\n",
    "    'agents': 'config/agents.yaml',\n",
    "    'tasks' : 'config/tasks.yaml'\n",
    "}\n",
    "\n",
    "configs = {}\n",
    "\n",
    "for config_type, file_path in files.items():\n",
    "    with open(file_path,'r') as file:\n",
    "        configs [config_type] = yaml.safe_load(file)\n",
    "\n",
    "agents_config = configs['agents']\n",
    "tasks_config = configs['tasks']"
   ]
  },
  {
   "cell_type": "code",
   "execution_count": 10,
   "metadata": {},
   "outputs": [
    {
     "ename": "ModuleNotFoundError",
     "evalue": "No module named 'crewai'",
     "output_type": "error",
     "traceback": [
      "\u001b[0;31m---------------------------------------------------------------------------\u001b[0m",
      "\u001b[0;31mModuleNotFoundError\u001b[0m                       Traceback (most recent call last)",
      "Cell \u001b[0;32mIn[10], line 1\u001b[0m\n\u001b[0;32m----> 1\u001b[0m \u001b[38;5;28;01mfrom\u001b[39;00m\u001b[38;5;250m \u001b[39m\u001b[38;5;21;01mcrewai\u001b[39;00m\u001b[38;5;250m \u001b[39m\u001b[38;5;28;01mimport\u001b[39;00m Agent,Task, Crew\n",
      "\u001b[0;31mModuleNotFoundError\u001b[0m: No module named 'crewai'"
     ]
    }
   ],
   "source": [
    "from crewai import Agent,Task, Crew"
   ]
  },
  {
   "cell_type": "code",
   "execution_count": null,
   "metadata": {},
   "outputs": [],
   "source": [
    "data_validator_agent = Agent(\n",
    "    config = agents_config['InputValidatorAgent']\n",
    ")\n",
    "\n",
    "\n",
    "validate_customer_information = Task(\n",
    "    config = tasks_config['ValidateCustomerInformation'],\n",
    "    agent = data_validator_agent\n",
    ")\n",
    "\n",
    "crew = Crew(\n",
    "    agents = [data_validator_agent],\n",
    "    tasks =[validate_customer_information],\n",
    "    verbose = True\n",
    ")"
   ]
  },
  {
   "cell_type": "code",
   "execution_count": null,
   "metadata": {},
   "outputs": [
    {
     "name": "stdout",
     "output_type": "stream",
     "text": [
      "\u001b[1m\u001b[95m# Agent:\u001b[00m \u001b[1m\u001b[92mData Validation Specialist\u001b[00m\n",
      "\u001b[95m## Task:\u001b[00m \u001b[92mExtract customer information (name, phone, email) from the user's free-form input and validate the data. The task involves: 1. Parsing the input to extract the customer's name, phone number, and email address. 2. Validating the extracted data against predefined rules:\n",
      "   - Name: Must not be empty and should be at least 2 characters long.\n",
      "   - Phone: Must match a valid format (e.g., +1-123-456-7890).\n",
      "   - Email: Must match a valid email format.\n",
      "3. If any errors are found, provide detailed feedback to the user for correction. 4. If the data is valid, confirm successful validation.\n",
      "\u001b[00m\n",
      "\n",
      "\n",
      "\u001b[1m\u001b[95m# Agent:\u001b[00m \u001b[1m\u001b[92mData Validation Specialist\u001b[00m\n",
      "\u001b[95m## Final Answer:\u001b[00m \u001b[92m\n",
      "Thank you for your input. I will now extract and validate the customer information provided.\n",
      "\n",
      "**Received Input:**  \n",
      "- Please provide the full text input for analysis.\n",
      "\n",
      "**Validation Criteria:**\n",
      "1. Name: Must not be empty and should be at least 2 characters long.\n",
      "2. Phone: Must match the valid format (e.g., +1-123-456-7890).\n",
      "3. Email: Must match a valid email format.\n",
      "\n",
      "**Validation Process:**\n",
      "- **Step 1:** Extract the name, phone number, and email from the provided input.\n",
      "- **Step 2:** Validate the extracted data against the established rules.\n",
      "\n",
      "**Example Input for Validation:**  \n",
      "*“Hi, my name is Jane Doe, my phone number is +1-123-456-7890, and my email address is jane.doe@example.com.”*\n",
      "\n",
      "**Extracted Data:**\n",
      "- Name: Jane Doe\n",
      "- Phone: +1-123-456-7890\n",
      "- Email: jane.doe@example.com\n",
      "\n",
      "**Validation Results:**\n",
      "- **Name:** Valid (Jane Doe is not empty and has more than 2 characters).\n",
      "- **Phone:** Valid (+1-123-456-7890 matches the valid format).\n",
      "- **Email:** Valid (jane.doe@example.com matches a valid email format).\n",
      "\n",
      "**Final Confirmation:**  \n",
      "All provided data has been successfully validated. Thank you!\u001b[00m\n",
      "\n",
      "\n"
     ]
    }
   ],
   "source": [
    "inputs ={\n",
    "    'inputs': \"Name is Henry, Phone is +1-123-456-7890 and email is henry@outlook.com\"\n",
    "}\n",
    "result = crew.kickoff(\n",
    "    inputs = inputs\n",
    ")"
   ]
  },
  {
   "cell_type": "code",
   "execution_count": null,
   "metadata": {},
   "outputs": [
    {
     "data": {
      "text/markdown": [
       "Thank you for your input. I will now extract and validate the customer information provided.\n",
       "\n",
       "**Received Input:**  \n",
       "- Please provide the full text input for analysis.\n",
       "\n",
       "**Validation Criteria:**\n",
       "1. Name: Must not be empty and should be at least 2 characters long.\n",
       "2. Phone: Must match the valid format (e.g., +1-123-456-7890).\n",
       "3. Email: Must match a valid email format.\n",
       "\n",
       "**Validation Process:**\n",
       "- **Step 1:** Extract the name, phone number, and email from the provided input.\n",
       "- **Step 2:** Validate the extracted data against the established rules.\n",
       "\n",
       "**Example Input for Validation:**  \n",
       "*“Hi, my name is Jane Doe, my phone number is +1-123-456-7890, and my email address is jane.doe@example.com.”*\n",
       "\n",
       "**Extracted Data:**\n",
       "- Name: Jane Doe\n",
       "- Phone: +1-123-456-7890\n",
       "- Email: jane.doe@example.com\n",
       "\n",
       "**Validation Results:**\n",
       "- **Name:** Valid (Jane Doe is not empty and has more than 2 characters).\n",
       "- **Phone:** Valid (+1-123-456-7890 matches the valid format).\n",
       "- **Email:** Valid (jane.doe@example.com matches a valid email format).\n",
       "\n",
       "**Final Confirmation:**  \n",
       "All provided data has been successfully validated. Thank you!"
      ],
      "text/plain": [
       "<IPython.core.display.Markdown object>"
      ]
     },
     "execution_count": 7,
     "metadata": {},
     "output_type": "execute_result"
    }
   ],
   "source": [
    "from IPython.display import Markdown\n",
    "Markdown(result.raw)"
   ]
  }
 ],
 "metadata": {
  "kernelspec": {
   "display_name": ".venv",
   "language": "python",
   "name": "python3"
  },
  "language_info": {
   "codemirror_mode": {
    "name": "ipython",
    "version": 3
   },
   "file_extension": ".py",
   "mimetype": "text/x-python",
   "name": "python",
   "nbconvert_exporter": "python",
   "pygments_lexer": "ipython3",
   "version": "3.12.8"
  }
 },
 "nbformat": 4,
 "nbformat_minor": 2
}
